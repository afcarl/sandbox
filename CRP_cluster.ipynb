{
 "cells": [
  {
   "cell_type": "code",
   "execution_count": 1,
   "metadata": {
    "collapsed": true
   },
   "outputs": [],
   "source": [
    "# Chinese Restaurant Process Clustering\n",
    "# Adapted from https://github.com/attapol/crp/blob/master/crp_clustering.py\n",
    "%matplotlib inline\n",
    "import numpy as np\n",
    "import matplotlib.pyplot as plt\n",
    "import scipy.stats as stats\n",
    "import scipy.cluster.vq as vq\n",
    "import random"
   ]
  },
  {
   "cell_type": "code",
   "execution_count": 2,
   "metadata": {
    "collapsed": false
   },
   "outputs": [],
   "source": [
    "class CRPClusterModel(object):\n",
    "    \"\"\"Chinese Restaurant Process Infinite Mixture Model\n",
    "      Non-parametric Bayesian clustering with Chinese Restaurant Process prior\n",
    "      The parameters for Gibbs sampling can be specified:\n",
    "        num_iter : number of iterations to run. One iteration cycles through every data point once.\n",
    "        eb_start : The trial where Empirical Bayes alpha adjustment begins\n",
    "        eb_interval : The interval (number of trials) at which we adjust alpha\n",
    "      \"\"\"\n",
    "\n",
    "    def __init__(self, alpha, likelihood_fn):\n",
    "        \"\"\"Initialize with the concentration hyperparameter alpha and likelihood function\n",
    "        The likelihood function must be have this form\n",
    "        def likelihood_fn(data, i, clustering, cluster_assn):\n",
    "          Returns a vector x of length len(clustering) + 1 \n",
    "          x[j] = P(data[i] | the cluster assignment so far AND data[i] assign to cluster j)\n",
    "        where\n",
    "        clustering - a list of clusters. Each cluster is a list of indices in the data\n",
    "        cluster assignment - a list of cluster number (assignment)\n",
    "          Examples\n",
    "          Cluster 0 contains data from [1, 2, 5]\n",
    "          Cluster 1 contains data from [0, 3, 4]\n",
    "          Then clustering == [ [1,2,5], [0,3,4] ]\n",
    "          AND cluster_assn = [1, 0, 0, 1, 1, 0]\n",
    "          Note that the two formats are redundant.\n",
    "        \"\"\"\n",
    "        self.alpha = alpha\n",
    "        self.likelihood_fn = likelihood_fn\n",
    "\n",
    "        #gibbs sampling parameters\n",
    "        self.num_iter = 100\n",
    "        self.eb_start = 20\n",
    "        self.eb_interval = 5\n",
    "\n",
    "    def initialize_assn(self, data):\n",
    "        \"\"\"Initial cluster assignment before Gibbs sampling Process\n",
    "        \"\"\"\n",
    "        clustering = []\n",
    "        cluster_assn = []\n",
    "\n",
    "        for i in range(len(data)):\n",
    "          crp_prior = [(len(x) + 0.0) / (i + self.alpha) for j, x in enumerate(clustering)]\n",
    "          crp_prior.append(self.alpha / (i + self.alpha))\n",
    "          crp_prior = np.array(crp_prior)\n",
    "          likelihood = self.likelihood_fn(data, i, clustering, cluster_assn)\n",
    "          probs = crp_prior * likelihood\n",
    "          probs = probs/np.sum(probs)\n",
    "\n",
    "          cluster = np.random.choice(len(probs), p=probs)\n",
    "\n",
    "          if cluster == len(clustering):\n",
    "            s = set([i])\n",
    "            clustering.append(s)\n",
    "          else:\n",
    "            clustering[cluster].add(i)\n",
    "          cluster_assn.append(clustering[cluster])\n",
    "        return clustering, cluster_assn\n",
    "\n",
    "    def fit(self, data):\n",
    "        \"\"\"Run Gibbs sampling to get the cluster assignment \"\"\"\n",
    "        num_data = len(data)\n",
    "        clustering, cluster_assn = self.initialize_assn(data)\n",
    "        for t in range(self.num_iter):\n",
    "            num_new_clusters = 0.0\n",
    "            for i in range(num_data):\n",
    "                cluster_assn[i].remove(i)\n",
    "                if len(cluster_assn[i]) == 0:\n",
    "                    clustering.remove(cluster_assn[i])\n",
    "                crp_prior = [(len(x) + 0.0) / (num_data - 1 + self.alpha) for j, x in enumerate(clustering)]\n",
    "                crp_prior.append(self.alpha / (num_data - 1 + self.alpha))\n",
    "                crp_prior = np.array(crp_prior)\n",
    "                likelihood = self.likelihood_fn(data, i, clustering, cluster_assn)\n",
    "                probs = crp_prior * likelihood\n",
    "                probs = probs/np.sum(probs)\n",
    "\n",
    "                cluster = np.random.choice(len(probs), p=probs)\n",
    "                if cluster == len(clustering):\n",
    "                    s = set([i])\n",
    "                    clustering.append(s)\n",
    "                    num_new_clusters += 1\n",
    "                else:\n",
    "                    clustering[cluster].add(i)\n",
    "                cluster_assn[i] = clustering[cluster]\n",
    "            # Empirical Bayes for adjusting hyperparameters\n",
    "            if t % self.eb_interval == 0 and t > self.eb_start:\n",
    "                self.alpha = num_new_clusters\n",
    "        return clustering, cluster_assn\n"
   ]
  },
  {
   "cell_type": "code",
   "execution_count": 3,
   "metadata": {
    "collapsed": false
   },
   "outputs": [
    {
     "name": "stdout",
     "output_type": "stream",
     "text": [
      "True means are [0, 10, 12].\n",
      "Cluster means are [11.907735515329081, 0.011840096306146276, 9.8749655152559512].\n"
     ]
    }
   ],
   "source": [
    "# 1D gaussian mixture data\n",
    "true_means = [0, 10, 12]\n",
    "data = np.concatenate((stats.norm.rvs(0, 1, size=200), stats.norm.rvs(10,1,size=200), stats.norm.rvs(12, 1, size=200)))\n",
    "random.shuffle(data)\n",
    "\n",
    "def likelihood_1d(data, i, clustering, cluster_assn):\n",
    "    means = [np.mean(data[list(cluster)]) for cluster in clustering]\n",
    "    means.append(0)\t\n",
    "    stds = [1 for cluster in clustering]\n",
    "    stds.append(10)\n",
    "    return stats.norm.pdf(data[i], means, stds)\n",
    "\n",
    "crp_model = CRPClusterModel(1.0, likelihood_1d)\n",
    "clustering, cluster_assn = crp_model.fit(data)\n",
    "means = [np.mean(data[list(cluster)]) for cluster in clustering]\n",
    "print 'True means are %s.\\nCluster means are %s.' % (true_means, means)\t"
   ]
  },
  {
   "cell_type": "code",
   "execution_count": 5,
   "metadata": {
    "collapsed": false
   },
   "outputs": [
    {
     "name": "stdout",
     "output_type": "stream",
     "text": [
      "means, stds:\n",
      "[-0.20053728  0.15206846] [ 0.81784412  0.99405943]\n",
      "[ 10.13685735   9.99394064] [ 0.36567657  0.57149761]\n"
     ]
    }
   ],
   "source": [
    "# 2D gaussian mixture model\n",
    "data = np.concatenate([np.random.randn(100, 2), np.random.randn(100, 2)*0.5+10])\n",
    "random.shuffle(data)\n",
    "\n",
    "def likelihood_2d(data, i, clustering, unused_clustering_assn, unknown_std=5.0, unknown_mean=0):\n",
    "    N, d = data.shape\n",
    "    means = [np.mean(data[list(cluster)], axis=0) for cluster in clustering]\n",
    "    means.append(unknown_mean*np.ones(d))\n",
    "    stds = [np.diag(np.std(data[list(cluster)], axis=0))+(1.0/len(cluster))*np.eye(d) for cluster in clustering]\n",
    "    stds.append(unknown_std*np.eye(d))\n",
    "    return [stats.multivariate_normal.pdf(data[i], means[j], stds[j]) for j in range(len(means))]\n",
    "\n",
    "crp_model = CRPClusterModel(1.0, likelihood_2d)\n",
    "clustering, cluster_assn = crp_model.fit(data)\n",
    "means = [np.mean(data[list(cluster)], axis=0) for cluster in clustering]\n",
    "stds = [np.std(data[list(cluster)], axis=0) for cluster in clustering]\n",
    "\n",
    "print 'means, stds:'\n",
    "for mean, std in zip(means, stds):\n",
    "    print mean, std"
   ]
  }
 ],
 "metadata": {
  "kernelspec": {
   "display_name": "Python 2",
   "language": "python",
   "name": "python2"
  },
  "language_info": {
   "codemirror_mode": {
    "name": "ipython",
    "version": 2
   },
   "file_extension": ".py",
   "mimetype": "text/x-python",
   "name": "python",
   "nbconvert_exporter": "python",
   "pygments_lexer": "ipython2",
   "version": "2.7.12"
  }
 },
 "nbformat": 4,
 "nbformat_minor": 1
}
